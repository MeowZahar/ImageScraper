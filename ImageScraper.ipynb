{
  "nbformat": 4,
  "nbformat_minor": 0,
  "metadata": {
    "colab": {
      "provenance": [],
      "authorship_tag": "ABX9TyOKqGQrFDw9M/oZkHkFaIcF",
      "include_colab_link": true
    },
    "kernelspec": {
      "name": "python3",
      "display_name": "Python 3"
    },
    "language_info": {
      "name": "python"
    }
  },
  "cells": [
    {
      "cell_type": "markdown",
      "metadata": {
        "id": "view-in-github",
        "colab_type": "text"
      },
      "source": [
        "<a href=\"https://colab.research.google.com/github/MeowZahar/ImageScraper/blob/main/ImageScraper.ipynb\" target=\"_parent\"><img src=\"https://colab.research.google.com/assets/colab-badge.svg\" alt=\"Open In Colab\"/></a>"
      ]
    },
    {
      "cell_type": "code",
      "execution_count": null,
      "metadata": {
        "colab": {
          "base_uri": "https://localhost:8080/"
        },
        "id": "zW3nVoy5T2Wa",
        "outputId": "bb5b42fe-8ec7-4fad-b2b2-a9a0a0d7881b"
      },
      "outputs": [
        {
          "output_type": "stream",
          "name": "stdout",
          "text": [
            "Requirement already satisfied: icrawler in /usr/local/lib/python3.10/dist-packages (0.6.7)\n",
            "Requirement already satisfied: pyyaml in /usr/local/lib/python3.10/dist-packages (from icrawler) (6.0.1)\n"
          ]
        }
      ],
      "source": [
        "!pip install icrawler"
      ]
    },
    {
      "cell_type": "code",
      "source": [
        "from datetime import date\n",
        "from icrawler.builtin import BaiduImageCrawler, BingImageCrawler, GoogleImageCrawler\n",
        "from google.colab import drive\n",
        "from pathlib import Path\n",
        "import os.path\n",
        "from os import path"
      ],
      "metadata": {
        "id": "f0DTWbONT_eN"
      },
      "execution_count": null,
      "outputs": []
    },
    {
      "cell_type": "code",
      "source": [
        "if path.exists('/content/images') == False:\n",
        "  os.mkdir('/content/images')\n",
        "  os.mkdir('/content/images/dog_images')\n",
        "  os.mkdir('/content/images/cat_images')\n",
        "  os.mkdir('/content/images/bird_images')\n",
        "root = Path.cwd()/\"images\""
      ],
      "metadata": {
        "id": "eHPimf31U7bH"
      },
      "execution_count": null,
      "outputs": []
    },
    {
      "cell_type": "code",
      "source": [
        "# This is the Google Crawler tool, we define the folder that the images will be stored in when they are downloaded.\n",
        "google_crawler = GoogleImageCrawler(downloader_threads=4, storage={'root_dir': '/content/images/dog_images'})\n",
        "\n",
        "parameters = {\n",
        "    \"type\": \"photo\",\n",
        "    \"color\": \"blue\",\n",
        "    \"size\": \">640x480\",\n",
        "    \"license\": \"noncommercial\"\n",
        "}\n",
        "\n",
        "# This function is where we define the keywords that will be searched in the engine, along with how many images will be downloaded.\n",
        "google_crawler.crawl(keyword='cute dog', filters=parameters, max_num=20, file_idx_offset='auto')"
      ],
      "metadata": {
        "colab": {
          "base_uri": "https://localhost:8080/"
        },
        "id": "vhltvPLQUGc8",
        "outputId": "5d8a653e-5a34-437a-ccac-e29c67cea248"
      },
      "execution_count": null,
      "outputs": [
        {
          "output_type": "stream",
          "name": "stderr",
          "text": [
            "ERROR:parser:Exception caught when fetching page https://www.google.com/search?q=cute+dog&ijn=0&start=0&tbs=itp%3Aphoto%2Cic%3Aspecific%2Cisc%3Ablue%2Cisz%3Alt%2Cislt%3Avga%2Csur%3Af&tbm=isch, error: HTTPSConnectionPool(host='www.google.com', port=443): Read timed out., remaining retry times: 2\n",
            "ERROR:downloader:Response status code 502, file https://live.staticflickr.com/3902/14375179745_9d78926f76_b.jpg\n",
            "ERROR:downloader:Response status code 502, file https://live.staticflickr.com/5055/5449881340_7daff0e8eb_b.jpg\n",
            "ERROR:downloader:Response status code 404, file https://upload.wikimedia.org/wikipedia/commons/thumb/5/51/The_Dog_Pecorino.jpg\n"
          ]
        }
      ]
    },
    {
      "cell_type": "code",
      "source": [
        "# This is the Bing Crawler tool, which also contains the folder path where images will be stored.\n",
        "bing_crawler = BingImageCrawler(downloader_threads=4, storage={'root_dir': '/content/images/cat_images'})\n",
        "\n",
        "parameters = {\n",
        "    \"type\": \"photo\",\n",
        "    \"color\": \"white\",\n",
        "    \"size\": \">640x480\",\n",
        "    \"layout\": \"tall\"\n",
        "}\n",
        "\n",
        "# This function specifies the keyword to search along with how many images to download.\n",
        "bing_crawler.crawl(keyword='deforestation', filters=parameters, max_num=20, file_idx_offset='auto')"
      ],
      "metadata": {
        "colab": {
          "base_uri": "https://localhost:8080/"
        },
        "id": "0wHLhelyUN_t",
        "outputId": "746d2684-035f-421d-9713-82f199393603"
      },
      "execution_count": null,
      "outputs": [
        {
          "output_type": "stream",
          "name": "stderr",
          "text": [
            "ERROR:downloader:Response status code 502, file https://live.staticflickr.com/7081/6918246664_de51feb8c1_b.jpg\n"
          ]
        }
      ]
    },
    {
      "cell_type": "code",
      "source": [
        "# This is the Baidu Crawler tool, which also contains the folder path where images will be stored.\n",
        "baidu_crawler = BaiduImageCrawler(downloader_threads=4, storage={'root_dir': '/content/images/bird_images'})\n",
        "\n",
        "# This function specifies the keyword to search along with how many images to download.\n",
        "baidu_crawler.crawl(keyword='deforestation', filters=None, max_num=20, file_idx_offset='auto')"
      ],
      "metadata": {
        "colab": {
          "base_uri": "https://localhost:8080/"
        },
        "id": "BGON7tpoUUkM",
        "outputId": "795cf15a-b8ff-4976-8601-2cf081dba83b"
      },
      "execution_count": null,
      "outputs": [
        {
          "output_type": "stream",
          "name": "stderr",
          "text": [
            "Exception in thread parser-001:\n",
            "Traceback (most recent call last):\n",
            "  File \"/usr/lib/python3.10/threading.py\", line 1016, in _bootstrap_inner\n",
            "    self.run()\n",
            "  File \"/usr/lib/python3.10/threading.py\", line 953, in run\n",
            "    self._target(*self._args, **self._kwargs)\n",
            "  File \"/usr/local/lib/python3.10/dist-packages/icrawler/parser.py\", line 94, in worker_exec\n",
            "    for task in self.parse(response, **kwargs):\n",
            "  File \"/usr/local/lib/python3.10/dist-packages/icrawler/builtin/baidu.py\", line 136, in parse\n",
            "    for item in content[\"data\"]:\n",
            "KeyError: 'data'\n"
          ]
        }
      ]
    },
    {
      "cell_type": "code",
      "source": [
        "dogs = '/content/images/dog_images'\n",
        "cats = '/content/images/cat_images'"
      ],
      "metadata": {
        "id": "GHP7NvUdUXS7"
      },
      "execution_count": null,
      "outputs": []
    },
    {
      "cell_type": "code",
      "source": [
        "for count, filename in enumerate(os.listdir('/content/images/dog_images')):\n",
        "  number = count + 1\n",
        "  new_name_format = f\"kawaii_dog_{str(number)}.jpg\"\n",
        "  old_name = f\"{dogs}/{filename}\"\n",
        "  new_name = f\"{dogs}/{new_name_format}\"\n",
        "  os.rename(old_name, new_name)"
      ],
      "metadata": {
        "id": "5CqkVU2mUZRM"
      },
      "execution_count": null,
      "outputs": []
    },
    {
      "cell_type": "code",
      "source": [
        "date_val = date(2023, 2, 2)\n",
        "\n",
        "for count, filename in enumerate(os.listdir('/content/images/cat_images')):\n",
        "  number = count + 1\n",
        "  new_name_format = f\"kawaii_catto_{str(number)}_({str(date_val)}).jpg\"\n",
        "  old_name = f\"{cats}/{filename}\"\n",
        "  new_name = f\"{cats}/{new_name_format}\"\n",
        "  os.rename(old_name, new_name)"
      ],
      "metadata": {
        "id": "Q7ULXOQqWCD6"
      },
      "execution_count": null,
      "outputs": []
    },
    {
      "cell_type": "code",
      "source": [
        "from datetime import datetime\n",
        "\n",
        "test_var = datetime.now()\n",
        "print(test_var)"
      ],
      "metadata": {
        "colab": {
          "base_uri": "https://localhost:8080/"
        },
        "id": "tirqqn7zUcOc",
        "outputId": "750fe77a-ff58-4ef0-a7b7-0aa07f92804f"
      },
      "execution_count": null,
      "outputs": [
        {
          "output_type": "stream",
          "name": "stdout",
          "text": [
            "2024-02-22 05:45:13.201766\n"
          ]
        }
      ]
    },
    {
      "cell_type": "code",
      "source": [
        "# This is the name of the zip file that will be downloaded. We will be storing all our images here.\n",
        "ZIP_NAME = \"image_set.zip\"\n",
        "\n",
        "# These commands tell colab to place all the content in our \"Files\" on the left hand side into the zip file.\n",
        "# It then stores the zip file in the \"Files\" for later use.\n",
        "# Take note that this ignores the \"sample_data\" folder since that is automatically generated by colab.\n",
        "!rm -f {ZIP_NAME}\n",
        "!zip -q -r {ZIP_NAME} {root}"
      ],
      "metadata": {
        "id": "iMT6bGlbUjar"
      },
      "execution_count": null,
      "outputs": []
    },
    {
      "cell_type": "code",
      "source": [
        "# This code takes the zip file and downloads it.\n",
        "from google.colab import files\n",
        "files.download(ZIP_NAME)"
      ],
      "metadata": {
        "colab": {
          "base_uri": "https://localhost:8080/",
          "height": 34
        },
        "id": "TTu4VI3wUmt8",
        "outputId": "600c5455-b48e-4e7d-ab57-ca55ae67283a"
      },
      "execution_count": null,
      "outputs": [
        {
          "output_type": "display_data",
          "data": {
            "text/plain": [
              "<IPython.core.display.Javascript object>"
            ],
            "application/javascript": [
              "\n",
              "    async function download(id, filename, size) {\n",
              "      if (!google.colab.kernel.accessAllowed) {\n",
              "        return;\n",
              "      }\n",
              "      const div = document.createElement('div');\n",
              "      const label = document.createElement('label');\n",
              "      label.textContent = `Downloading \"${filename}\": `;\n",
              "      div.appendChild(label);\n",
              "      const progress = document.createElement('progress');\n",
              "      progress.max = size;\n",
              "      div.appendChild(progress);\n",
              "      document.body.appendChild(div);\n",
              "\n",
              "      const buffers = [];\n",
              "      let downloaded = 0;\n",
              "\n",
              "      const channel = await google.colab.kernel.comms.open(id);\n",
              "      // Send a message to notify the kernel that we're ready.\n",
              "      channel.send({})\n",
              "\n",
              "      for await (const message of channel.messages) {\n",
              "        // Send a message to notify the kernel that we're ready.\n",
              "        channel.send({})\n",
              "        if (message.buffers) {\n",
              "          for (const buffer of message.buffers) {\n",
              "            buffers.push(buffer);\n",
              "            downloaded += buffer.byteLength;\n",
              "            progress.value = downloaded;\n",
              "          }\n",
              "        }\n",
              "      }\n",
              "      const blob = new Blob(buffers, {type: 'application/binary'});\n",
              "      const a = document.createElement('a');\n",
              "      a.href = window.URL.createObjectURL(blob);\n",
              "      a.download = filename;\n",
              "      div.appendChild(a);\n",
              "      a.click();\n",
              "      div.remove();\n",
              "    }\n",
              "  "
            ]
          },
          "metadata": {}
        },
        {
          "output_type": "display_data",
          "data": {
            "text/plain": [
              "<IPython.core.display.Javascript object>"
            ],
            "application/javascript": [
              "download(\"download_7fcf4dd4-db7a-47e9-aea8-a5032af7d821\", \"image_set.zip\", 23414280)"
            ]
          },
          "metadata": {}
        }
      ]
    }
  ]
}